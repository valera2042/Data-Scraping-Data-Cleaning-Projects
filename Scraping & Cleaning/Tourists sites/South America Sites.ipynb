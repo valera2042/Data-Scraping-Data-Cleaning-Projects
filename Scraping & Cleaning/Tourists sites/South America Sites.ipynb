{
 "cells": [
  {
   "cell_type": "markdown",
   "metadata": {},
   "source": [
    "# South America Sites\n",
    "\n",
    "\n",
    "Project Plan:\n",
    "\n",
    "1. Data Aquisition\n",
    "2. Data Cleaning"
   ]
  },
  {
   "cell_type": "markdown",
   "metadata": {},
   "source": [
    "# Data Aquisition"
   ]
  },
  {
   "cell_type": "code",
   "execution_count": 149,
   "metadata": {},
   "outputs": [],
   "source": [
    "import pandas as pd # library for data analysis\n",
    "import requests # library to handle requests\n",
    "from bs4 import BeautifulSoup # library to parse HTML documents"
   ]
  },
  {
   "cell_type": "code",
   "execution_count": 150,
   "metadata": {},
   "outputs": [
    {
     "name": "stdout",
     "output_type": "stream",
     "text": [
      "200\n"
     ]
    }
   ],
   "source": [
    "wikiurl=\"https://en.wikipedia.org/wiki/List_of_World_Heritage_Sites_in_South_America\"\n",
    "\n",
    "\n",
    "def get_data(wikiurl):\n",
    "\n",
    "    # get the response in the form of html\n",
    "    table_class=\"wikitable sortable jquery-tablesorter\"\n",
    "    response=requests.get(wikiurl)\n",
    "    print(response.status_code)\n",
    "    \n",
    "    # parse data from the html into a beautifulsoup object\n",
    "    soup = BeautifulSoup(response.text, 'html.parser')\n",
    "    indiatable=soup.find('table',{'class':\"wikitable\"})\n",
    "\n",
    "    df=pd.read_html(str(indiatable))\n",
    "    # convert list to dataframe\n",
    "    df=pd.DataFrame(df[0])\n",
    "    return df\n",
    "\n",
    "df = get_data(wikiurl)"
   ]
  },
  {
   "cell_type": "code",
   "execution_count": 151,
   "metadata": {},
   "outputs": [
    {
     "data": {
      "text/html": [
       "<div>\n",
       "<style scoped>\n",
       "    .dataframe tbody tr th:only-of-type {\n",
       "        vertical-align: middle;\n",
       "    }\n",
       "\n",
       "    .dataframe tbody tr th {\n",
       "        vertical-align: top;\n",
       "    }\n",
       "\n",
       "    .dataframe thead th {\n",
       "        text-align: right;\n",
       "    }\n",
       "</style>\n",
       "<table border=\"1\" class=\"dataframe\">\n",
       "  <thead>\n",
       "    <tr style=\"text-align: right;\">\n",
       "      <th></th>\n",
       "      <th>Site</th>\n",
       "      <th>Image</th>\n",
       "      <th>Location</th>\n",
       "      <th>Criteria</th>\n",
       "      <th>Areaha (acre)</th>\n",
       "      <th>Year</th>\n",
       "      <th>Description</th>\n",
       "      <th>Refs</th>\n",
       "    </tr>\n",
       "  </thead>\n",
       "  <tbody>\n",
       "    <tr>\n",
       "      <th>0</th>\n",
       "      <td>Atlantic Forest South-East Reserves</td>\n",
       "      <td>NaN</td>\n",
       "      <td>Paraná, São Paulo and Rio de Janeiro states, B...</td>\n",
       "      <td>Natural:(vii), (ix), (x)</td>\n",
       "      <td>468,193 (1,156,930); buffer zone 1,223,557 (3,...</td>\n",
       "      <td>1999</td>\n",
       "      <td>The site comprises some of the last remaining ...</td>\n",
       "      <td>[3]</td>\n",
       "    </tr>\n",
       "    <tr>\n",
       "      <th>1</th>\n",
       "      <td>Brasília</td>\n",
       "      <td>NaN</td>\n",
       "      <td>Federal District, Brazil15°47′S 47°54′W﻿ / ﻿15...</td>\n",
       "      <td>Cultural:(i), (iv)</td>\n",
       "      <td>NaN</td>\n",
       "      <td>1987</td>\n",
       "      <td>Planned and developed by Lúcio Costa and Oscar...</td>\n",
       "      <td>[4]</td>\n",
       "    </tr>\n",
       "    <tr>\n",
       "      <th>2</th>\n",
       "      <td>Brazilian Atlantic Islands: Fernando de Noronh...</td>\n",
       "      <td>NaN</td>\n",
       "      <td>Pernambuco and Rio Grande do Norte, Brazil3°51...</td>\n",
       "      <td>Natural:(vii), (ix), (x)</td>\n",
       "      <td>42,270 (104,500); buffer zone 140,713 (347,710)</td>\n",
       "      <td>2001</td>\n",
       "      <td>As one of the few insular habitats in the Sout...</td>\n",
       "      <td>[5]</td>\n",
       "    </tr>\n",
       "    <tr>\n",
       "      <th>3</th>\n",
       "      <td>Canaima National Park</td>\n",
       "      <td>NaN</td>\n",
       "      <td>Bolívar, Venezuela5°20′N 61°30′W﻿ / ﻿5.333°N 6...</td>\n",
       "      <td>Natural:(vii), (viii), (ix), (x)</td>\n",
       "      <td>3,000,000 (7,400,000)</td>\n",
       "      <td>1994</td>\n",
       "      <td>The park is characterized by table-top mountai...</td>\n",
       "      <td>[6]</td>\n",
       "    </tr>\n",
       "    <tr>\n",
       "      <th>4</th>\n",
       "      <td>Central Amazon Conservation Complex</td>\n",
       "      <td>NaN</td>\n",
       "      <td>State of Amazonas, Brazil2°20′0″S 62°0′30″W﻿ /...</td>\n",
       "      <td>Natural:(ix), (x)</td>\n",
       "      <td>5,323,018 (13,153,460)</td>\n",
       "      <td>2000[nb 1]</td>\n",
       "      <td>As the largest protected area in the Amazon ba...</td>\n",
       "      <td>[7][8]</td>\n",
       "    </tr>\n",
       "  </tbody>\n",
       "</table>\n",
       "</div>"
      ],
      "text/plain": [
       "                                                Site  Image  \\\n",
       "0                Atlantic Forest South-East Reserves    NaN   \n",
       "1                                           Brasília    NaN   \n",
       "2  Brazilian Atlantic Islands: Fernando de Noronh...    NaN   \n",
       "3                              Canaima National Park    NaN   \n",
       "4                Central Amazon Conservation Complex    NaN   \n",
       "\n",
       "                                            Location  \\\n",
       "0  Paraná, São Paulo and Rio de Janeiro states, B...   \n",
       "1  Federal District, Brazil15°47′S 47°54′W﻿ / ﻿15...   \n",
       "2  Pernambuco and Rio Grande do Norte, Brazil3°51...   \n",
       "3  Bolívar, Venezuela5°20′N 61°30′W﻿ / ﻿5.333°N 6...   \n",
       "4  State of Amazonas, Brazil2°20′0″S 62°0′30″W﻿ /...   \n",
       "\n",
       "                           Criteria  \\\n",
       "0          Natural:(vii), (ix), (x)   \n",
       "1                Cultural:(i), (iv)   \n",
       "2          Natural:(vii), (ix), (x)   \n",
       "3  Natural:(vii), (viii), (ix), (x)   \n",
       "4                 Natural:(ix), (x)   \n",
       "\n",
       "                                       Areaha (acre)        Year  \\\n",
       "0  468,193 (1,156,930); buffer zone 1,223,557 (3,...        1999   \n",
       "1                                                NaN        1987   \n",
       "2    42,270 (104,500); buffer zone 140,713 (347,710)        2001   \n",
       "3                              3,000,000 (7,400,000)        1994   \n",
       "4                             5,323,018 (13,153,460)  2000[nb 1]   \n",
       "\n",
       "                                         Description    Refs  \n",
       "0  The site comprises some of the last remaining ...     [3]  \n",
       "1  Planned and developed by Lúcio Costa and Oscar...     [4]  \n",
       "2  As one of the few insular habitats in the Sout...     [5]  \n",
       "3  The park is characterized by table-top mountai...     [6]  \n",
       "4  As the largest protected area in the Amazon ba...  [7][8]  "
      ]
     },
     "execution_count": 151,
     "metadata": {},
     "output_type": "execute_result"
    }
   ],
   "source": [
    "df.head()"
   ]
  },
  {
   "cell_type": "markdown",
   "metadata": {},
   "source": [
    "# Data Cleaning"
   ]
  },
  {
   "cell_type": "markdown",
   "metadata": {},
   "source": [
    "Data cleaning Plan:\n",
    "\n",
    "1. Delete a column Image\n",
    "2. From location create two columns: Location and Coordinates\n",
    "3. Remove roman numbers from Criteria\n",
    "4. Return only numbers from Areaha that are not in numbers\n",
    "5. Extract year from Year\n",
    "6. Check if there are any information regarding elevation (ft) in Description\n",
    "7. Remove brakets from Refs"
   ]
  },
  {
   "cell_type": "code",
   "execution_count": 152,
   "metadata": {},
   "outputs": [],
   "source": [
    "# drops unnecessary columns\n",
    "df.drop('Image', axis = 1, inplace = True)"
   ]
  },
  {
   "cell_type": "markdown",
   "metadata": {},
   "source": [
    "From location create two columns: Location and Coordinates"
   ]
  },
  {
   "cell_type": "code",
   "execution_count": 153,
   "metadata": {},
   "outputs": [],
   "source": [
    "def get_location(df):\n",
    "\n",
    "    # create a new column\n",
    "    df['Location_place'] = df['Location']\n",
    "    \n",
    "    # iterate across rows\n",
    "    for row in range(df.shape[0]):\n",
    "    \n",
    "        # split by 1st digits encountered\n",
    "        res = df['Location'].str.split(r'(\\d+)')[row][0]\n",
    "        \n",
    "        # assign result to the created column\n",
    "        df['Location_place'][row] = res\n",
    "    return df\n",
    "\n",
    "df = get_location(df)"
   ]
  },
  {
   "cell_type": "code",
   "execution_count": 154,
   "metadata": {},
   "outputs": [],
   "source": [
    "def get_coordinates(df):\n",
    "\n",
    "    # create a new column\n",
    "    df['Location_coordinates'] = df['Location']\n",
    "    \n",
    "    # iterate across rows\n",
    "    for row in range(df.shape[0]):\n",
    "        \n",
    "        # split by 1st digits encountered\n",
    "        res = df['Location'].str.split(r'(\\d+)')[row]\n",
    "        \n",
    "        # pop location values to get rig of it\n",
    "        res.pop(0)\n",
    "        \n",
    "        # assign what is left to a column value\n",
    "        df['Location_coordinates'][row] = ''.join(res)\n",
    "    return df\n",
    "\n",
    "df = get_coordinates(df)"
   ]
  },
  {
   "cell_type": "markdown",
   "metadata": {},
   "source": [
    "Remove roman numbers from Criteria\n",
    "\n",
    "Return only numbers from Areaha that are not in numbers\n",
    "\n",
    "Extract year from Year\n",
    "\n",
    "Check if there are any information regarding elevation (ft) in Description\n",
    "\n",
    "Remove brakets from Refs"
   ]
  },
  {
   "cell_type": "code",
   "execution_count": 155,
   "metadata": {},
   "outputs": [],
   "source": [
    "def further_transformations(df):\n",
    "    \n",
    "    # extract only words at the beginning of the column\n",
    "    df['Criteria'] = df['Criteria'].str.extract(r'([a-zA-Z]+)')\n",
    "    \n",
    "    # Clean up column from commas\n",
    "    df['Areaha (acre)'] = df['Areaha (acre)'].str.replace(',','')\n",
    "    \n",
    "    # get number from cleaned column\n",
    "    df['Areaha (acre)'] = df['Areaha (acre)'].str.extract(r'(\\d+)')\n",
    "    \n",
    "    # get a year from a column\n",
    "    df['Year'] = df['Year'].str.extract(r'(\\d+)')\n",
    "    \n",
    "    # remove brakets from a string\n",
    "    df['Refs'] = df['Refs'].str.extract(r'(\\d+)')\n",
    "    return df\n",
    "\n",
    "df = further_transformations(df)"
   ]
  },
  {
   "cell_type": "code",
   "execution_count": 158,
   "metadata": {},
   "outputs": [],
   "source": [
    "def data_types_conversion(df,col):\n",
    "    \n",
    "    # replaces nan with 0 to facilitate type conversion\n",
    "    df[col].fillna(0, inplace = True)\n",
    "    \n",
    "    # convert to num type\n",
    "    df[col] = pd.to_numeric(df[col], errors = 'coerce')\n",
    "    df[col] = df[col].astype(int)\n",
    "    return df\n",
    "\n",
    "\n",
    "# apply data_types_conversion to list of columns\n",
    "columns_list = ['Areaha (acre)', 'Year','Refs']\n",
    "for col in columns_list:\n",
    "    df = data_types_conversion(df,col)"
   ]
  },
  {
   "cell_type": "code",
   "execution_count": 162,
   "metadata": {},
   "outputs": [],
   "source": [
    "def dropping_columns(df):\n",
    "    \n",
    "    # drops columns\n",
    "    columns = ['Location', 'Description']\n",
    "    \n",
    "    # iterates across a list to drop\n",
    "    for col in columns:\n",
    "        df.drop(col, axis = 1, inplace = True)\n",
    "    return df\n",
    "\n",
    "df = dropping_columns(df)"
   ]
  },
  {
   "cell_type": "markdown",
   "metadata": {},
   "source": [
    "# Cleaned DataFrame"
   ]
  },
  {
   "cell_type": "code",
   "execution_count": 165,
   "metadata": {},
   "outputs": [
    {
     "data": {
      "text/html": [
       "<div>\n",
       "<style scoped>\n",
       "    .dataframe tbody tr th:only-of-type {\n",
       "        vertical-align: middle;\n",
       "    }\n",
       "\n",
       "    .dataframe tbody tr th {\n",
       "        vertical-align: top;\n",
       "    }\n",
       "\n",
       "    .dataframe thead th {\n",
       "        text-align: right;\n",
       "    }\n",
       "</style>\n",
       "<table border=\"1\" class=\"dataframe\">\n",
       "  <thead>\n",
       "    <tr style=\"text-align: right;\">\n",
       "      <th></th>\n",
       "      <th>Site</th>\n",
       "      <th>Criteria</th>\n",
       "      <th>Areaha (acre)</th>\n",
       "      <th>Year</th>\n",
       "      <th>Refs</th>\n",
       "      <th>Location_place</th>\n",
       "      <th>Location_coordinates</th>\n",
       "    </tr>\n",
       "  </thead>\n",
       "  <tbody>\n",
       "    <tr>\n",
       "      <th>0</th>\n",
       "      <td>Atlantic Forest South-East Reserves</td>\n",
       "      <td>Natural</td>\n",
       "      <td>468193</td>\n",
       "      <td>1999</td>\n",
       "      <td>3</td>\n",
       "      <td>Paraná, São Paulo and Rio de Janeiro states, B...</td>\n",
       "      <td>24°10′S 48°0′W﻿ / ﻿24.167°S 48.000°W</td>\n",
       "    </tr>\n",
       "    <tr>\n",
       "      <th>1</th>\n",
       "      <td>Brasília</td>\n",
       "      <td>Cultural</td>\n",
       "      <td>0</td>\n",
       "      <td>1987</td>\n",
       "      <td>4</td>\n",
       "      <td>Federal District, Brazil</td>\n",
       "      <td>15°47′S 47°54′W﻿ / ﻿15.783°S 47.900°W</td>\n",
       "    </tr>\n",
       "    <tr>\n",
       "      <th>2</th>\n",
       "      <td>Brazilian Atlantic Islands: Fernando de Noronh...</td>\n",
       "      <td>Natural</td>\n",
       "      <td>42270</td>\n",
       "      <td>2001</td>\n",
       "      <td>5</td>\n",
       "      <td>Pernambuco and Rio Grande do Norte, Brazil</td>\n",
       "      <td>3°51′29″S 32°25′30″W﻿ / ﻿3.85806°S 32.42500°W</td>\n",
       "    </tr>\n",
       "    <tr>\n",
       "      <th>3</th>\n",
       "      <td>Canaima National Park</td>\n",
       "      <td>Natural</td>\n",
       "      <td>3000000</td>\n",
       "      <td>1994</td>\n",
       "      <td>6</td>\n",
       "      <td>Bolívar, Venezuela</td>\n",
       "      <td>5°20′N 61°30′W﻿ / ﻿5.333°N 61.500°W</td>\n",
       "    </tr>\n",
       "    <tr>\n",
       "      <th>4</th>\n",
       "      <td>Central Amazon Conservation Complex</td>\n",
       "      <td>Natural</td>\n",
       "      <td>5323018</td>\n",
       "      <td>2000</td>\n",
       "      <td>7</td>\n",
       "      <td>State of Amazonas, Brazil</td>\n",
       "      <td>2°20′0″S 62°0′30″W﻿ / ﻿2.33333°S 62.00833°W</td>\n",
       "    </tr>\n",
       "  </tbody>\n",
       "</table>\n",
       "</div>"
      ],
      "text/plain": [
       "                                                Site  Criteria  Areaha (acre)  \\\n",
       "0                Atlantic Forest South-East Reserves   Natural         468193   \n",
       "1                                           Brasília  Cultural              0   \n",
       "2  Brazilian Atlantic Islands: Fernando de Noronh...   Natural          42270   \n",
       "3                              Canaima National Park   Natural        3000000   \n",
       "4                Central Amazon Conservation Complex   Natural        5323018   \n",
       "\n",
       "   Year  Refs                                     Location_place  \\\n",
       "0  1999     3  Paraná, São Paulo and Rio de Janeiro states, B...   \n",
       "1  1987     4                           Federal District, Brazil   \n",
       "2  2001     5         Pernambuco and Rio Grande do Norte, Brazil   \n",
       "3  1994     6                                 Bolívar, Venezuela   \n",
       "4  2000     7                          State of Amazonas, Brazil   \n",
       "\n",
       "                            Location_coordinates  \n",
       "0           24°10′S 48°0′W﻿ / ﻿24.167°S 48.000°W  \n",
       "1          15°47′S 47°54′W﻿ / ﻿15.783°S 47.900°W  \n",
       "2  3°51′29″S 32°25′30″W﻿ / ﻿3.85806°S 32.42500°W  \n",
       "3            5°20′N 61°30′W﻿ / ﻿5.333°N 61.500°W  \n",
       "4    2°20′0″S 62°0′30″W﻿ / ﻿2.33333°S 62.00833°W  "
      ]
     },
     "execution_count": 165,
     "metadata": {},
     "output_type": "execute_result"
    }
   ],
   "source": [
    "df.head()"
   ]
  },
  {
   "cell_type": "code",
   "execution_count": null,
   "metadata": {},
   "outputs": [],
   "source": []
  }
 ],
 "metadata": {
  "kernelspec": {
   "display_name": "Python 3",
   "language": "python",
   "name": "python3"
  },
  "language_info": {
   "codemirror_mode": {
    "name": "ipython",
    "version": 3
   },
   "file_extension": ".py",
   "mimetype": "text/x-python",
   "name": "python",
   "nbconvert_exporter": "python",
   "pygments_lexer": "ipython3",
   "version": "3.8.3"
  }
 },
 "nbformat": 4,
 "nbformat_minor": 4
}
